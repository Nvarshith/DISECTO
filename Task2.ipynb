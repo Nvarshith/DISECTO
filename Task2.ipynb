{
 "cells": [
  {
   "cell_type": "markdown",
   "metadata": {},
   "source": [
    "# Step 1:\n",
    "* install dependencies "
   ]
  },
  {
   "cell_type": "code",
   "execution_count": null,
   "metadata": {},
   "outputs": [],
   "source": [
    "#!pip3 install elasticsearch\n",
    "#!pip3 install pandas"
   ]
  },
  {
   "cell_type": "code",
   "execution_count": 2,
   "metadata": {},
   "outputs": [
    {
     "name": "stdout",
     "output_type": "stream",
     "text": [
      "All Modules Loaded ! \n"
     ]
    }
   ],
   "source": [
    "try:\n",
    "    import os\n",
    "    import sys\n",
    "    \n",
    "    import elasticsearch\n",
    "    from elasticsearch import Elasticsearch \n",
    "    import pandas as pd\n",
    "    \n",
    "    print(\"All Modules Loaded ! \")\n",
    "except Exception as e:\n",
    "    print(\"Some Modules are Missing {}\".format(e))"
   ]
  },
  {
   "cell_type": "markdown",
   "metadata": {},
   "source": [
    "# Terminology\n",
    "what is Index ? Well Index is similar to Database Name\n",
    "\n",
    "what is Type ? Type is similar to Table Name"
   ]
  },
  {
   "cell_type": "code",
   "execution_count": 6,
   "metadata": {},
   "outputs": [
    {
     "name": "stdout",
     "output_type": "stream",
     "text": [
      "Yupiee  Connected \n"
     ]
    }
   ],
   "source": [
    "#Connecting to database\n",
    "def connect_elasticsearch():\n",
    "    es = None\n",
    "    es = Elasticsearch([{'host': 'localhost', 'port': 9200}])\n",
    "    if es.ping():\n",
    "        print('Yupiee  Connected ')\n",
    "    else:\n",
    "        print('Awww it could not connect!')\n",
    "    return es\n",
    "es = connect_elasticsearch()"
   ]
  },
  {
   "cell_type": "code",
   "execution_count": 10,
   "metadata": {},
   "outputs": [
    {
     "data": {
      "text/plain": [
       "{'acknowledged': True, 'shards_acknowledged': True, 'index': 'person'}"
      ]
     },
     "execution_count": 10,
     "metadata": {},
     "output_type": "execute_result"
    }
   ],
   "source": [
    "#Create Index (database file)\n",
    "es.indices.create(index='person', ignore=400)"
   ]
  },
  {
   "cell_type": "code",
   "execution_count": null,
   "metadata": {},
   "outputs": [],
   "source": [
    "#get all databases\n",
    "res=es.indices.get_alias('*')\n",
    "for name in res:\n",
    "    print(name)"
   ]
  },
  {
   "cell_type": "code",
   "execution_count": 20,
   "metadata": {},
   "outputs": [],
   "source": [
    "e1={\n",
    "   \"Name\": \"Nirmala\",\n",
    "   \"Address\": \"Ram\",\n",
    "   \"Date\": \"01-12-1980\",\n",
    "   \"Number\": 913429000000,\n",
    "   \"Circle\": \"female\",\n",
    "   \"Operator\": \"EXISU8058H\"\n",
    " }\n",
    "e2={\n",
    "   \"Name\": \"Djayssen\",\n",
    "   \"Address\": \"Nagi\",\n",
    "   \"Date\": \"19-04-1976\",\n",
    "   \"Number\": 917984000000,\n",
    "   \"Circle\": \"male\",\n",
    "   \"Operator\": \"VHEJU9100I\"\n",
    " }\n",
    "e3={\n",
    "   \"Name\": \"Ankur\",\n",
    "   \"Address\": \"Shetty\",\n",
    "   \"Date\": \"22-08-2018\",\n",
    "   \"Number\": 918925000000,\n",
    "   \"Circle\": \"male\",\n",
    "   \"Operator\": \"WGGPS3500Q\"\n",
    " }\n",
    "e4={\n",
    "   \"Name\": \"Dharmaradj\",\n",
    "   \"Address\": \"Bir\",\n",
    "   \"Date\": \"24-05-2015\",\n",
    "   \"Number\": 917478000000,\n",
    "   \"Circle\": \"male\",\n",
    "   \"Operator\": \"OEMFR6454D\"\n",
    " }\n",
    "e5={\n",
    "   \"Name\": \"Karan\",\n",
    "   \"Address\": \"Venkataraman\",\n",
    "   \"Date\": \"28-11-2007\",\n",
    "   \"Number\": 915953000000,\n",
    "   \"Circle\": \"male\",\n",
    "   \"Operator\": \"EIPQT7815S\"\n",
    " }"
   ]
  },
  {
   "cell_type": "code",
   "execution_count": null,
   "metadata": {},
   "outputs": [],
   "source": [
    "res1 = es.index(index='person',doc_type='people', body=e1)\n",
    "res2 = es.index(index='person',doc_type='people', body=e2)\n",
    "res3 = es.index(index='person',doc_type='people', body=e3)\n",
    "res4 = es.index(index='person',doc_type='people', body=e4)\n",
    "res5 = es.index(index='person',doc_type='people', body=e5)\n",
    "\n",
    "\n",
    "print(\"RES1 : {}\".format(res1))\n",
    "print(\"RES2 : {}\".format(res2))\n",
    "print(\"RES3 : {}\".format(res3))\n",
    "print(\"RES4 : {}\".format(res4))\n",
    "print(\"RES5 : {}\".format(res5))"
   ]
  },
  {
   "cell_type": "code",
   "execution_count": 27,
   "metadata": {},
   "outputs": [
    {
     "name": "stderr",
     "output_type": "stream",
     "text": [
      "C:\\Users\\Vars008\\AppData\\Local\\Temp\\ipykernel_18416\\1562905659.py:5: DeprecationWarning: The 'body' parameter is deprecated for the 'search' API and will be removed in a future version. Instead use API parameters directly. See https://github.com/elastic/elasticsearch-py/issues/1698 for more information\n",
      "  res = es.search(index=\"person\", body=query, size=1000)\n"
     ]
    }
   ],
   "source": [
    "query={\"query\" : {\n",
    "        \"match_all\" : {}\n",
    "    }}\n",
    "\n",
    "res = es.search(index=\"person\", body=query, size=1000)"
   ]
  },
  {
   "cell_type": "code",
   "execution_count": 29,
   "metadata": {},
   "outputs": [
    {
     "name": "stdout",
     "output_type": "stream",
     "text": [
      "[{'_index': 'person', '_type': 'people', '_id': 'NWGx0H4BuGrY4xsEiIEq', '_score': 1.0, '_source': {'Name': 'Nirmala', 'Address': 'Ram', 'Date': '01-12-1980', 'Number': 913429000000, 'Circle': 'female', 'Operator': 'EXISU8058H'}}, {'_index': 'person', '_type': 'people', '_id': 'NmGy0H4BuGrY4xsEgIEh', '_score': 1.0, '_source': {'Name': 'Nirmala', 'Address': 'Ram', 'Date': '01-12-1980', 'Number': 913429000000, 'Circle': 'female', 'Operator': 'EXISU8058H'}}, {'_index': 'person', '_type': 'people', '_id': 'N2Gy0H4BuGrY4xsE_YF_', '_score': 1.0, '_source': {'Name': 'Djayssen', 'Address': 'Nagi', 'Date': '19-04-1976', 'Number': 917984000000, 'Circle': 'male', 'Operator': 'VHEJU9100I'}}, {'_index': 'person', '_type': 'people', '_id': 'OGGz0H4BuGrY4xsEWYGL', '_score': 1.0, '_source': {'Name': 'Ankur', 'Address': 'Shetty', 'Date': '22-08-2018', 'Number': 918925000000, 'Circle': 'male', 'Operator': 'WGGPS3500Q'}}, {'_index': 'person', '_type': 'people', '_id': 'OWGz0H4BuGrY4xsEW4EO', '_score': 1.0, '_source': {'Name': 'Dharmaradj', 'Address': 'Bir', 'Date': '24-05-2015', 'Number': 917478000000, 'Circle': 'male', 'Operator': 'OEMFR6454D'}}, {'_index': 'person', '_type': 'people', '_id': 'OmG00H4BuGrY4xsEEYEj', '_score': 1.0, '_source': {'Name': 'Karan', 'Address': 'Venkataraman', 'Date': '28-11-2007', 'Number': 915953000000, 'Circle': 'male', 'Operator': 'EIPQT7815S'}}]\n"
     ]
    }
   ],
   "source": [
    "print(res['hits']['hits'])"
   ]
  }
 ],
 "metadata": {
  "kernelspec": {
   "display_name": "Python 3",
   "language": "python",
   "name": "python3"
  },
  "language_info": {
   "codemirror_mode": {
    "name": "ipython",
    "version": 3
   },
   "file_extension": ".py",
   "mimetype": "text/x-python",
   "name": "python",
   "nbconvert_exporter": "python",
   "pygments_lexer": "ipython3",
   "version": "3.9.6"
  }
 },
 "nbformat": 4,
 "nbformat_minor": 4
}
