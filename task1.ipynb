{
 "cells": [
  {
   "cell_type": "code",
   "execution_count": 15,
   "metadata": {},
   "outputs": [],
   "source": [
    "#import the packages\n",
    "from phe import paillier\n"
   ]
  },
  {
   "cell_type": "code",
   "execution_count": 16,
   "metadata": {},
   "outputs": [],
   "source": [
    "#Generating public and private keys\n",
    "public_key, private_key = paillier.generate_paillier_keypair()"
   ]
  },
  {
   "cell_type": "code",
   "execution_count": 17,
   "metadata": {},
   "outputs": [
    {
     "name": "stdout",
     "output_type": "stream",
     "text": [
      "Public key <PaillierPublicKey 1e3b4a5112> \n",
      " Private key <PaillierPrivateKey for <PaillierPublicKey 1e3b4a5112>>\n"
     ]
    }
   ],
   "source": [
    "print(\"Public key\",public_key,\"\\n Private key\", private_key)"
   ]
  },
  {
   "cell_type": "code",
   "execution_count": 19,
   "metadata": {},
   "outputs": [
    {
     "name": "stdout",
     "output_type": "stream",
     "text": [
      "[<phe.paillier.EncryptedNumber object at 0x000002B0A8BED430>, <phe.paillier.EncryptedNumber object at 0x000002B0A8BED880>, <phe.paillier.EncryptedNumber object at 0x000002B0A70E93A0>]\n"
     ]
    }
   ],
   "source": [
    "#Encrypting the message\n",
    "secret_number_list = [3.141592653, 300, -4.6e-12]\n",
    "encrypted_number_list = [public_key.encrypt(x) for x in secret_number_list]\n",
    "print(encrypted_number_list)"
   ]
  },
  {
   "cell_type": "code",
   "execution_count": 20,
   "metadata": {},
   "outputs": [
    {
     "name": "stdout",
     "output_type": "stream",
     "text": [
      "[3.141592653, 300, -4.6e-12]\n"
     ]
    }
   ],
   "source": [
    "#Decrementing the encrypted number\n",
    "print([private_key.decrypt(x) for x in encrypted_number_list])"
   ]
  },
  {
   "cell_type": "code",
   "execution_count": 21,
   "metadata": {},
   "outputs": [],
   "source": [
    "#assigning the encrypted number to a variable\n",
    "a, b, c = encrypted_number_list"
   ]
  },
  {
   "cell_type": "code",
   "execution_count": 22,
   "metadata": {},
   "outputs": [
    {
     "name": "stdout",
     "output_type": "stream",
     "text": [
      "<phe.paillier.EncryptedNumber object at 0x000002B0A8BED070> <phe.paillier.EncryptedNumber object at 0x000002B0A6C7D550> <phe.paillier.EncryptedNumber object at 0x000002B0A8BED2B0>\n"
     ]
    }
   ],
   "source": [
    "#Adding the encrypted numbers to scalar\n",
    "a_plus_5 = a + 5\n",
    "#Adding the encrypted numbers to each other\n",
    "a_plus_b = a + b\n",
    "#Multiplying the encrypted numbers to scalar\n",
    "a_times_3_5 = a * 3.5\n",
    "print(a_plus_5, a_plus_b, a_times_3_5)"
   ]
  },
  {
   "cell_type": "code",
   "execution_count": 23,
   "metadata": {},
   "outputs": [],
   "source": [
    "#other operations\n",
    "a_minus_1_3 = a - 1             # = a + (-1)\n",
    "a_div_minus_3_1 = a / -3.1      # = a * (-1 / 3.1)\n",
    "a_minus_b = a - b               # = a + (b * -1)"
   ]
  },
  {
   "cell_type": "code",
   "execution_count": 27,
   "metadata": {},
   "outputs": [
    {
     "name": "stdout",
     "output_type": "stream",
     "text": [
      "Decrypted value of a+b:  303.141592653\n"
     ]
    }
   ],
   "source": [
    "print(\"Decrypted value of a+b: \",private_key.decrypt(a_plus_b))"
   ]
  }
 ],
 "metadata": {
  "interpreter": {
   "hash": "1e2c4b5258d386354a2c708b7e98bbb1becfd8e1d2c9f606c81d6a266801ddd7"
  },
  "kernelspec": {
   "display_name": "Python 3.9.6 ('virtualenv_env2')",
   "language": "python",
   "name": "python3"
  },
  "language_info": {
   "codemirror_mode": {
    "name": "ipython",
    "version": 3
   },
   "file_extension": ".py",
   "mimetype": "text/x-python",
   "name": "python",
   "nbconvert_exporter": "python",
   "pygments_lexer": "ipython3",
   "version": "3.9.6"
  },
  "orig_nbformat": 4
 },
 "nbformat": 4,
 "nbformat_minor": 2
}
